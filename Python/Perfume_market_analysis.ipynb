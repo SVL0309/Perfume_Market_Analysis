{
 "cells": [
  {
   "cell_type": "code",
   "execution_count": null,
   "id": "87a45e25-96c2-46b8-8110-af2ce6d728d4",
   "metadata": {},
   "outputs": [],
   "source": [
    "import pandas as pd\n",
    "import numpy as np\n",
    "import matplotlib.pyplot as plt\n",
    "import seaborn as sns\n",
    "import os\n",
    "from IPython.display import display, HTML"
   ]
  },
  {
   "cell_type": "markdown",
   "id": "c828ee1b-79b9-4bb4-b666-438eb4bfc5bf",
   "metadata": {},
   "source": [
    "## ETL"
   ]
  },
  {
   "cell_type": "code",
   "execution_count": null,
   "id": "e9e113f5-9625-4fbc-bfea-94011f53133f",
   "metadata": {},
   "outputs": [],
   "source": [
    "mens_df = pd.read_csv(\"data\\ebay_mens_perfume.csv\")\n",
    "womens_df = pd.read_csv(\"data\\ebay_womens_perfume.csv\")"
   ]
  },
  {
   "cell_type": "code",
   "execution_count": null,
   "id": "42172f5b-be9a-4ad9-8e69-9ab8e2b408e6",
   "metadata": {},
   "outputs": [],
   "source": [
    "mens_df.info()"
   ]
  },
  {
   "cell_type": "code",
   "execution_count": null,
   "id": "400c4151-0474-4401-ba8f-5008392b2e26",
   "metadata": {},
   "outputs": [],
   "source": [
    "womens_df.info()"
   ]
  },
  {
   "cell_type": "code",
   "execution_count": null,
   "id": "09f494b3-dcf5-42c6-991b-2ae3c8c0253c",
   "metadata": {},
   "outputs": [],
   "source": [
    "mens_df['gender'] = 'man'\n",
    "womens_df['gender'] = 'woman'\n",
    "perfume_df = pd.concat ([mens_df, womens_df], axis = 0)\n",
    "perfume_df.info()"
   ]
  },
  {
   "cell_type": "code",
   "execution_count": null,
   "id": "c26a4931-16c4-4a62-861c-ef5f2f13f2dc",
   "metadata": {},
   "outputs": [],
   "source": [
    "perfume_df = perfume_df.fillna({\n",
    "    'brand': 'Unknown',\n",
    "    'type': 'Unknown',\n",
    "    'available': 0,\n",
    "    'availableText': 'Not available',\n",
    "    'sold': 0\n",
    "})"
   ]
  },
  {
   "cell_type": "code",
   "execution_count": null,
   "id": "e4e5e31a-e0f7-484b-b7c2-38d500e1ae12",
   "metadata": {},
   "outputs": [],
   "source": [
    "float_columns = perfume_df.select_dtypes(include=['float64']).columns\n",
    "perfume_df[float_columns] = perfume_df[float_columns].astype(int)"
   ]
  },
  {
   "cell_type": "code",
   "execution_count": null,
   "id": "d30cf395-ddc0-46ea-a1ca-6fae8970a706",
   "metadata": {},
   "outputs": [],
   "source": [
    "perfume_df = perfume_df.drop(['priceWithCurrency','availableText', 'lastUpdated'], axis = 1)"
   ]
  },
  {
   "cell_type": "code",
   "execution_count": null,
   "id": "a6976a87-5dfa-4e0f-8fc3-c3cd11fdfe61",
   "metadata": {},
   "outputs": [],
   "source": [
    "category_mapping = {\n",
    "    'Eau de Parfum': ['Eau de Parfum', 'Eau De Parfum', 'Eau de Parfum Intense', 'Eau De Parfum Intense',\n",
    "                      'Eau De Parfum 2 Pcs Set', \"L'Eau de Parfum\", 'Eau de Parfume', \"L'eau de Parfum\", \n",
    "                      'EDP and Parfum', 'Eau De Parfum Supreme', 'Eau de Parfum/Perfume', 'Eau De Parfum Spray', \n",
    "                      'Eau de Parfum, Eau De Parfume', 'Eau de Parfum, Spray', 'Eau De Parfum 3 Pcs Set', \n",
    "                      'LE PARFUM', 'EXTRAIT DE PARFUM', 'Extrait De Parfum', 'Extrait de Parfum', 'Elixir de Parfum',\n",
    "                      'Elixir De Parfum', 'Extract Parfum', 'Parfum Intense', 'Eau de Perfume'],\n",
    "    \n",
    "    'Eau de Toilette': ['Eau de Toilette', 'Eau De Toilette', 'Eau de Toilette Intense', 'Eau de Toillette', \n",
    "                        'Eau De Toilette, Eau De Parfum, Eau De Parfum Intense', 'Eau De Toilette Spray 3.4 oz',\n",
    "                        'Eau de Toilette, Spray'],\n",
    "    \n",
    "    'Cologne': ['Cologne', 'Eau de Cologne', 'Eau De Cologne', 'Fine Cologne', 'Cologne Spray', \n",
    "                'Cologne spray', 'DIOR HOMME COLOGNE', 'Jo Malone Cologne Intense Spray', 'EAU DE COLOGNE SPRAY',\n",
    "                'Eau de Cologne Spray, Cologne Spray'],\n",
    "    \n",
    "    'Body Spray': ['Body Spray', 'Fragrance Body Spray', 'Deodorant Body Spray', 'Body Mist', 'Fragrance Mist', \n",
    "                   'Fine Fragrance Mist', 'Perfume Fragrance Mist', 'Fragrance Rolling Ball', 'Deodorant Stick', \n",
    "                   'Deodorant', 'Deodorant Body Spray', 'Roll On'],\n",
    "    \n",
    "    'Perfume Oil': ['Perfume Oil', 'Fragrance Oil', 'Body Oil', 'Oil Perfume', 'Scented Oils', 'Concentrated Uncut Pure Body Oil',\n",
    "                    'Oil', 'Shimmering Body Oil', 'Bath Oil']\n",
    "}"
   ]
  },
  {
   "cell_type": "code",
   "execution_count": null,
   "id": "60118995-51a0-4ff2-97f8-1273dc3cd909",
   "metadata": {},
   "outputs": [],
   "source": [
    "perfume_df['grouped_category'] = perfume_df['type'].apply(lambda value: next((category for category, keywords in category_mapping.items() if value in keywords), 'Other_product_type'))"
   ]
  },
  {
   "cell_type": "code",
   "execution_count": null,
   "id": "b68ed060-609c-413f-acc0-6bc4e1cd7594",
   "metadata": {},
   "outputs": [],
   "source": [
    "perfume_df['available_value'] = perfume_df['price']*perfume_df['available']\n",
    "perfume_df['total_revenue'] = perfume_df['price']*perfume_df['sold']"
   ]
  },
  {
   "cell_type": "code",
   "execution_count": null,
   "id": "44e3fe48-ef2e-4e15-ad14-5a89bd58927b",
   "metadata": {},
   "outputs": [],
   "source": [
    "brands = perfume_df['brand'].unique()"
   ]
  },
  {
   "cell_type": "code",
   "execution_count": null,
   "id": "c1c93d92-80cd-42de-bd68-ac47df340d73",
   "metadata": {},
   "outputs": [],
   "source": [
    "luxury = ['Chanel', 'Dior', 'Yves Saint Laurent', 'Gucci', 'Giorgio Armani',\n",
    "            'Hermès', 'Prada', 'Versace', 'Valentino', 'Louis Vuitton',\n",
    "            'Givenchy', 'Tom Ford', 'Burberry', 'Viktor & Rolf', 'Creed',\n",
    "            'Maison Francis Kurkdjian', 'Bvlgari', 'Acqua di Parma', 'Lalique',\n",
    "            'Dolce & Gabbana', 'Montale', 'Azzaro', 'Chanel No 5', 'Oscar de la Renta',\n",
    "            'Hermès Paris', 'La Prairie', 'Guerlain', 'By Kilian', 'Celine',\n",
    "            'Atelier', 'Chanel Paris', 'Giorgio Armani', 'Tommy Bahama', 'Kenzo',\n",
    "            'Jean Paul Gaultier', 'Bvlgari', 'Dolce & Gabbana', 'Christian Dior',\n",
    "            'Serge Lutens', 'Frederic Malle', 'Amouage', 'Xerjoff', 'Roja Parfums',\n",
    "            'Penhaligon\\'s', 'Juliette Has a Gun', 'Parfums de Marly', 'Nasomatto',\n",
    "            'Fragonard', 'Mancera', 'Al Haramain', 'Alexander McQueen', 'Rasasi',\n",
    "            'Montblanc', 'Carolina Herrera']\n",
    "\n",
    "massmarket = [ 'AXE', 'Old Spice', 'David Beckham', 'Adidas', 'Coty',\n",
    "            'Nautica', 'Kenneth Cole', 'Bath & Body Works',\n",
    "            'Paris Hilton', 'Abercrombie & Fitch', 'Calvin Klein', 'Paco Rabanne',\n",
    "            'Elizabeth Taylor', 'Jovan', 'Lacoste', 'Curve', 'Iman', 'Cacharel',\n",
    "            'Giorgio Beverly Hills', 'Benetton', 'Avon', 'Gwen Stefani',\n",
    "            'Hollister', 'Sbyd', 'Marlene Dietrich', 'Hugo Boss']\n",
    "\n",
    "niche = ['Amouage', 'Byredo', 'Diptyque', 'Maison Francis Kurkdjian',\n",
    "            'Montale', 'Kilian', 'Xerjoff', 'Roja Parfums', 'Juliette has a gun',\n",
    "            \"Penhaligon\\'s\", 'Parfums de Marly', 'Nasomatto', 'Frederic Malle',\n",
    "            'Tiziana Terenzi', 'Serge Lutens', 'Fragonard',\n",
    "            'Creed', 'Acqua di Parma', 'Lalique', 'The Different Company',\n",
    "            'Vilhelm Parfumerie', \"Eau d'Italie\", 'Vero Profumo', 'Aesop', 'Diptyque']\n",
    "\n",
    "indie = ['Maison Alhambra', 'Al Haramain', 'Clive Christian', 'Alexandria Fragrances',\n",
    "            'Roja', 'The Baron', 'Juliette Has a Gun', 'Huda Beauty Kayali',\n",
    "            'Atelier Cologne', 'Byredo', 'Aesop', 'Le Labo', 'Miller Harris',\n",
    "            'DS & Durga', 'Guerlain', 'Parfums de Marly', 'Memo Paris', 'Mizensir']"
   ]
  },
  {
   "cell_type": "code",
   "execution_count": null,
   "id": "e149f0aa-7cee-4d97-87bc-e0bacab0e2ef",
   "metadata": {},
   "outputs": [],
   "source": [
    "def classify_brand(brand):\n",
    "    if brand in luxury:\n",
    "        return 'Luxury'\n",
    "    elif brand in massmarket:\n",
    "        return 'Massmarket'\n",
    "    elif brand in niche:\n",
    "        return 'Niche'\n",
    "    elif brand in indie:\n",
    "        return 'Indie'\n",
    "    else:\n",
    "        return 'Other_category'"
   ]
  },
  {
   "cell_type": "code",
   "execution_count": null,
   "id": "39e54a12-bceb-4c8a-b73d-1c0667307bc4",
   "metadata": {},
   "outputs": [],
   "source": [
    "perfume_df['category'] = perfume_df['brand'].apply(classify_brand)"
   ]
  },
  {
   "cell_type": "code",
   "execution_count": null,
   "id": "b2c83ab8-e050-4c06-b316-90bd652b54ed",
   "metadata": {},
   "outputs": [],
   "source": [
    "perfume_df.info()"
   ]
  },
  {
   "cell_type": "code",
   "execution_count": null,
   "id": "8a3ab16d-6099-4a0f-80ae-58cf705086da",
   "metadata": {},
   "outputs": [],
   "source": [
    "perfume_df.describe()"
   ]
  },
  {
   "cell_type": "code",
   "execution_count": null,
   "id": "d6fadc48-399f-4d60-bca8-f1912c129227",
   "metadata": {},
   "outputs": [],
   "source": [
    "perfume_df"
   ]
  },
  {
   "cell_type": "code",
   "execution_count": null,
   "id": "ab44ae9f-be1d-4170-848a-d1da1286c614",
   "metadata": {},
   "outputs": [],
   "source": [
    "perfume_df.info()"
   ]
  },
  {
   "cell_type": "code",
   "execution_count": null,
   "id": "06048870-6a8f-4dbe-ac93-39c331f8c9cd",
   "metadata": {},
   "outputs": [],
   "source": [
    "sql_perfume = perfume_df"
   ]
  },
  {
   "cell_type": "code",
   "execution_count": null,
   "id": "f857f3eb-8b22-4bdf-935d-f9914e9bc8f4",
   "metadata": {},
   "outputs": [],
   "source": [
    "\n",
    "sql_perfume = sql_perfume.applymap(lambda x: x.strip() if isinstance(x, str) else x)\n",
    "\n",
    "sql_perfume.replace(r'[\\n\\r]+', ' ', regex=True, inplace=True)\n",
    "sql_perfume.replace('\"', '', regex=True, inplace=True)\n",
    "\n",
    "sql_perfume.fillna(0, inplace=True)\n",
    "\n",
    "sql_perfume.drop_duplicates(inplace=True)\n",
    "\n",
    "sql_perfume['price'] = sql_perfume['price'].astype('int64')\n",
    "sql_perfume['available'] = sql_perfume['available'].astype('int64')\n",
    "sql_perfume['sold'] = sql_perfume['sold'].astype('int64')\n",
    "sql_perfume['available_value'] = sql_perfume['available_value'].astype('int64')\n",
    "sql_perfume['total_revenue'] = sql_perfume['total_revenue'].astype('int64')"
   ]
  },
  {
   "cell_type": "code",
   "execution_count": null,
   "id": "9c9bb968-b84c-49b3-94b7-5df0b531b7be",
   "metadata": {},
   "outputs": [],
   "source": [
    "sql_perfume"
   ]
  },
  {
   "cell_type": "code",
   "execution_count": null,
   "id": "4d55ab73-9457-46ee-afc8-4ad5147e365d",
   "metadata": {},
   "outputs": [],
   "source": [
    "sql_perfume.to_csv('data\\perfume.csv', index=False)"
   ]
  },
  {
   "cell_type": "code",
   "execution_count": null,
   "id": "5ffb8f7a-e3bd-434c-a48e-375e15cda3ad",
   "metadata": {},
   "outputs": [],
   "source": [
    "\n",
    "sql_perfume_check = pd.read_csv('data\\perfume.csv')\n",
    "print(\"ROWS in CSV:\", len(sql_perfume_check))\n",
    "print(\"First 5 rows:\\n\", sql_perfume_check.head())"
   ]
  },
  {
   "cell_type": "code",
   "execution_count": null,
   "id": "44ed965e-c995-4496-bcac-3618ddb808d9",
   "metadata": {},
   "outputs": [],
   "source": []
  },
  {
   "cell_type": "code",
   "execution_count": null,
   "id": "b7442148-ddf9-49fd-b606-c71b35c1efa7",
   "metadata": {},
   "outputs": [],
   "source": [
    "\n",
    "for column in sql_perfume_check.columns:\n",
    "    sql_perfume_check[column] = sql_perfume_check[column].astype(str)\n",
    "\n",
    "for column in sql_perfume_check.columns:\n",
    "    has_special_chars = sql_perfume_check[column].str.contains(r'[^a-zA-Z0-9\\s,]', regex=True).any()\n",
    "    print(f'special_chars in {column}:', has_special_chars)"
   ]
  },
  {
   "cell_type": "code",
   "execution_count": null,
   "id": "58c47615-e25d-4161-8fd6-31aa8677c038",
   "metadata": {},
   "outputs": [],
   "source": [
    "\n",
    "for column in sql_perfume_check.columns:\n",
    "    sql_perfume_check[column] = sql_perfume_check[column].str.replace(r'[^a-zA-Z0-9\\s,]', '', regex=True)"
   ]
  },
  {
   "cell_type": "code",
   "execution_count": null,
   "id": "c4e34002-444e-4226-a491-ce831b44e15b",
   "metadata": {},
   "outputs": [],
   "source": [
    "sql_perfume_check.info()"
   ]
  },
  {
   "cell_type": "code",
   "execution_count": null,
   "id": "f02e4c48-853e-4d94-a697-e0c89c95ce7b",
   "metadata": {},
   "outputs": [],
   "source": [
    "# cleaned data for SQL and PowerBI\n",
    "sql_perfume_check.to_csv('sql_perfume_check.csv', sep=',', encoding='utf-8', index=False)"
   ]
  },
  {
   "cell_type": "markdown",
   "id": "7c5e3987-d3ff-4585-9364-0eef308e7f83",
   "metadata": {},
   "source": [
    "## Product Category Analysis"
   ]
  },
  {
   "cell_type": "code",
   "execution_count": null,
   "id": "732d1444-9c3a-40b9-a120-20b9bd94a220",
   "metadata": {},
   "outputs": [],
   "source": [
    "category_analysis_full = perfume_df.groupby(['category']).agg({'brand': pd.Series.nunique, 'title' :pd.Series.nunique}).reset_index()\n",
    "category_analysis_full['sold'] = perfume_df.groupby('category')['sold'].sum().reset_index(drop=True)\n",
    "category_analysis_full['available'] = perfume_df.groupby('category')['available'].sum().reset_index(drop=True)\n",
    "category_analysis_full['available_value'] = perfume_df.groupby('category')['available_value'].sum().reset_index(drop=True)\n",
    "\n",
    "category_analysis_full['total_revenue'] = perfume_df.groupby('category')['total_revenue'].sum().reset_index(drop=True)\n",
    "category_analysis_full['average_price'] = (category_analysis_full['total_revenue']/category_analysis_full['sold']).round(2)\n",
    "\n",
    "sold_man_per_category = perfume_df[perfume_df['gender'] == 'man'].groupby('category')['sold'].sum()\n",
    "\n",
    "category_analysis_full = category_analysis_full.merge(\n",
    "    sold_man_per_category, \n",
    "    how='left', \n",
    "    left_on='category', \n",
    "    right_index=True, \n",
    "    suffixes=('', '_man')\n",
    ")\n",
    "category_analysis_full.rename(columns={'sold_man': 'sold_man'}, inplace=True)\n",
    "\n",
    "category_analysis_full['sold_woman'] = perfume_df[perfume_df['gender'] == 'woman'].groupby('category')['sold'].sum().reset_index(drop=True)\n",
    "category_analysis_full['sold_man'].fillna(0, inplace=True)\n",
    "category_analysis_full['sold_woman'].fillna(0, inplace=True)\n",
    "total_revenue_man_per_category = perfume_df[perfume_df['gender'] == 'man'].groupby('category')['total_revenue'].sum()\n",
    "total_revenue_man_df = total_revenue_man_per_category.reset_index()\n",
    "total_revenue_man_df.rename(columns={'total_revenue': 'revenue_man'}, inplace=True)\n",
    "category_analysis_full = category_analysis_full.merge(\n",
    "    total_revenue_man_df, \n",
    "    how='left', \n",
    "    on='category'\n",
    ")\n",
    "\n",
    "category_analysis_full['revenue_woman'] = perfume_df[perfume_df['gender'] == 'woman'].groupby('category')['total_revenue'].sum().reset_index(drop=True)\n",
    "category_analysis_full['revenue_man'].fillna(0, inplace=True)\n",
    "category_analysis_full=category_analysis_full.sort_values(by='sold', ascending=False)\n",
    "category_analysis_full = category_analysis_full.reset_index(drop=True)"
   ]
  },
  {
   "cell_type": "code",
   "execution_count": null,
   "id": "a7b71a86-91ee-48d5-be3b-a5a20c6cb314",
   "metadata": {},
   "outputs": [],
   "source": [
    "display(HTML('<b>Product Category Analysis</b>'))\n",
    "display(HTML(category_analysis_full.to_html()))"
   ]
  },
  {
   "cell_type": "code",
   "execution_count": null,
   "id": "85310223-a0a5-4f05-ae08-ff3598c63652",
   "metadata": {},
   "outputs": [],
   "source": [
    "display(HTML('<b>Sales Volume Analysis</b>'))\n",
    "\n",
    "categories = category_analysis_full['category']\n",
    "sold = category_analysis_full['sold']\n",
    "total_revenue = category_analysis_full['total_revenue']\n",
    "\n",
    "fig, ax1 = plt.subplots(figsize=(10, 6))\n",
    "\n",
    "width = 0.35\n",
    "x = np.arange(len(categories))\n",
    "\n",
    "bar1 = ax1.bar(x - width/2, sold, width, label='Units Sold', color='lightgreen')\n",
    "\n",
    "\n",
    "ax2 = ax1.twinx()\n",
    "bar2 = ax2.bar(x + width/2, total_revenue, width, label='Total Revenue', color='lightblue')\n",
    "\n",
    "\n",
    "ax1.set_xlabel('Category')\n",
    "ax1.set_ylabel('Units Sold')\n",
    "ax2.set_ylabel('Total Revenue (USD)')\n",
    "ax1.set_title('Total Revenue and Sales Volume by Category')\n",
    "ax1.set_xticks(x)\n",
    "ax1.set_xticklabels(categories)\n",
    "\n",
    "\n",
    "bars = [bar1, bar2]\n",
    "labels = ['Units Sold', 'Total Revenue']\n",
    "fig.legend([b[0] for b in bars], labels, loc='upper left')\n",
    "\n",
    "fig.tight_layout()\n",
    "plt.show()"
   ]
  },
  {
   "cell_type": "markdown",
   "id": "05c7eac2-83fc-444f-96f6-0ba559a3e2ac",
   "metadata": {},
   "source": [
    "### Sales Volume Insights\n",
    "\n",
    "The \"Other\" category dominates with 649,501 units sold, contributing to a total revenue of USD 17,899,065, the highest across all categories.\n",
    "The luxury segment accounts for 340,028 units sold, generating USD 14,157,643 in revenue.\n",
    "With 257,746 units sold and a total revenue of USD 6,736,388, the mass market caters to a price-sensitive audience, as indicated by the lower average price (USD 26.14).\n",
    "The niche category has the lowest sales volume at 3,091 units and total revenue of USD 110,922.\n",
    "Indie brands have the smallest presence, with just 667 units sold and total revenue of USD 28,460."
   ]
  },
  {
   "cell_type": "code",
   "execution_count": null,
   "id": "131542a7-3ffc-48b1-922c-073d348a1cf7",
   "metadata": {},
   "outputs": [],
   "source": [
    "display(HTML('<b>Sales Volume and Revenue by Gender</b>'))\n",
    "\n",
    "categories = category_analysis_full['category']\n",
    "sold_man = category_analysis_full['sold_man']\n",
    "sold_woman = category_analysis_full['sold_woman']\n",
    "\n",
    "fig, ax = plt.subplots(figsize=(10, 6))\n",
    "ax.bar(categories, sold_man, label='Men', color='lightblue')\n",
    "ax.bar(categories, sold_woman, bottom=sold_man, label='Women', color='pink')\n",
    "\n",
    "ax.set_xlabel('Category')\n",
    "ax.set_ylabel('Units Sold')\n",
    "ax.set_title('Sales Volume by Gender across Categories')\n",
    "ax.legend()\n",
    "\n",
    "plt.xticks(rotation=45)\n",
    "plt.tight_layout()"
   ]
  },
  {
   "cell_type": "code",
   "execution_count": null,
   "id": "705412c5-9231-4018-b632-aeaa7d012742",
   "metadata": {},
   "outputs": [],
   "source": [
    "for i, category in enumerate(category_analysis_full['category']):\n",
    "    revenue_man = category_analysis_full['revenue_man'].iloc[i]\n",
    "    revenue_woman = category_analysis_full['revenue_woman'].iloc[i]\n",
    "    \n",
    "    plt.figure(figsize=(5, 5))\n",
    "    plt.pie([revenue_man, revenue_woman], labels=['Men', 'Women'], autopct='%1.1f%%', colors=['lightblue', 'pink'])\n",
    "    plt.title(f'Revenue Split by Gender - {category}')\n",
    "    plt.show()"
   ]
  },
  {
   "cell_type": "markdown",
   "id": "e849d34d-bc3f-4384-a901-4a54d28514df",
   "metadata": {},
   "source": [
    "#### Sales Volume and Revenue by Gender Insights\n",
    "Sales in the other segment are relatively balanced between men (358,092 units) and women (291,409 units), though men slightly outperform in volume.\n",
    "Men's products generate USD 10,335,993 in revenue (57.8% of the category's total), while women contribute USD 7,563,072. This gender revenue gap highlights a stronger demand or higher pricing for men's products in this category.\n",
    "\n",
    "The luxury segment accounts for 340,028 units sold, generating USD 14,157,643 in revenue. A notable skew toward male purchases (241,584 units for men vs. 98,444 for women), with men's sales representing 71% of the total volume. Men's products contribute significantly to the revenue (USD 10,466,504 or 73.9%), while women's products account for USD 3,691,139. The higher average price (USD 41.64) suggests premium positioning, which is well accepted in the market.\n",
    "\n",
    "With 257,746 units sold and a total revenue of USD 6,736,388, the mass market caters to a price-sensitive audience, as indicated by the lower average price ($26.14). Men lead in both sales volume (161,717 units) and revenue (USD 4,518,345), but the women's segment (96,029 units sold) also holds significant value. Men's products generate approximately 67% of the total revenue, highlighting their stronger foothold in the mass market.\n",
    "\n",
    "The niche category has the lowest sales volume at 3,091 units and total revenue of USD 110,922. Interestingly, all sales are directed toward women's products, showing no demand for men's offerings. The entire revenue of USD 110,922 comes from women, reflecting a highly targeted product range.\n",
    "\n",
    "Indie brands have the smallest presence, with just 667 units sold and total revenue of USD 28,460. Slightly more units are sold to women (391 units) compared to men (276 units), but both segments are almost equally represented. Men's products account for USD 15,259 in revenue, while women contribute USD 13,201. The nearly equal revenue split indicates balanced pricing and demand across genders.\n"
   ]
  },
  {
   "cell_type": "code",
   "execution_count": null,
   "id": "cafe74e7-ccdc-440e-9733-72179c69e0c8",
   "metadata": {},
   "outputs": [],
   "source": [
    "display(HTML('<b>Inventory</b>'))\n",
    "category_analysis_full['sold_percentage'] = (category_analysis_full['sold'] / category_analysis_full['available']) * 100\n",
    "fig, ax = plt.subplots(figsize=(10, 6))\n",
    "ax.bar(category_analysis_full['category'], category_analysis_full['available'], width=0.4, label='Available Units', color='lightblue', align='center')\n",
    "ax2 = ax.twinx()\n",
    "ax2.plot(category_analysis_full['category'], category_analysis_full['sold_percentage'], color='red', marker='o', label='% Sold')\n",
    "ax.set_xlabel('Category')\n",
    "ax.set_ylabel('Available Units')\n",
    "ax2.set_ylabel('Sold Percentage (%)')\n",
    "ax.set_title('Available Units vs. Sold Percentage by Category')\n",
    "ax.legend(loc='upper left')\n",
    "ax2.legend(loc='upper right')\n",
    "plt.xticks(rotation=45)\n",
    "plt.tight_layout()\n",
    "plt.show()"
   ]
  },
  {
   "cell_type": "markdown",
   "id": "2175f468-51bc-46d3-a5ef-2d9e1d9f04e9",
   "metadata": {},
   "source": [
    "#### Conclusion\n",
    "The \"Other\" category drives substantial revenue with balanced sales between genders, but further analysis on inventory management is recommended to optimize stock and sales dynamics.\n",
    "The luxury category is male-driven, with high unit sales and revenue reflecting strong brand loyalty or effective targeting. However, the relatively low female sales highlight an opportunity for better engagement with the female segment.\n",
    "The mass market displays a more balanced gender split in sales compared to luxury, but men still dominate. The lower average price reflects the category's competitive nature. Expanding product offerings or promotions in the women's segment could help increase overall market share.\n",
    "The niche category is entirely women-focused, with low but potentially high-margin sales. The absence of male-targeted products might indicate a missed opportunity or a deliberate brand strategy, but further market research could explore untapped male demand.\n",
    "Indie brands represent a small but balanced segment in terms of gender distribution. However, low sales and revenue suggest limited market penetration. Opportunities may exist in refining brand positioning or increasing visibility to grow this niche.\n",
    "\n",
    "#### Overall Insights\n",
    "\n",
    "Gender Influence: Across categories, men's products generally outperform women's in both sales volume and revenue, especially in the luxury and mass-market segments. This indicates a higher demand for male-oriented products, but also highlights an opportunity for expanding female-targeted offerings.\n",
    "Revenue vs. Sales: There is a clear correlation between sales volume and revenue in most categories, but disparities in average pricing across categories point to different market strategies. Luxury brands benefit from higher pricing, while mass-market and indie brands focus on affordability.\n",
    "Inventory Management: High available inventory in categories like \"Other\" suggests potential inefficiencies. Improving inventory turnover or aligning stock with demand could drive more efficient operations."
   ]
  },
  {
   "cell_type": "markdown",
   "id": "528b6ef4-7040-43b0-8dfd-d6f72c74dda6",
   "metadata": {},
   "source": [
    "## Product Brand Analysis"
   ]
  },
  {
   "cell_type": "code",
   "execution_count": null,
   "id": "6bd63c7d-3e6d-4ecd-92ab-5f4829c4d899",
   "metadata": {},
   "outputs": [],
   "source": [
    "\n",
    "brand_grouped_df = perfume_df.groupby('brand').agg({\n",
    "    'price': 'mean',     \n",
    "    'available': 'sum',  \n",
    "    'sold': 'sum',        \n",
    "    'available_value': 'sum',  \n",
    "    'total_revenue': 'sum'    \n",
    "}).reset_index()\n",
    "\n",
    "brand_grouped_df.rename(columns={'price': 'average_price'}, inplace=True)\n"
   ]
  },
  {
   "cell_type": "code",
   "execution_count": null,
   "id": "d2d9290f-ab5b-4cfa-9fd2-0e4874e5654d",
   "metadata": {},
   "outputs": [],
   "source": [
    "brand_grouped_df.info()"
   ]
  },
  {
   "cell_type": "code",
   "execution_count": null,
   "id": "519514d5-6e51-4d23-8e2e-ab2f48bf9d8d",
   "metadata": {},
   "outputs": [],
   "source": [
    "\n",
    "sold_man_per_brand = perfume_df[perfume_df['gender'] == 'man'].groupby('brand')['sold'].sum().reset_index()\n",
    "sold_man_per_brand.rename(columns={'sold': 'sold_man'}, inplace=True)\n",
    "\n",
    "sold_woman_per_brand = perfume_df[perfume_df['gender'] == 'woman'].groupby('brand')['sold'].sum().reset_index()\n",
    "sold_woman_per_brand.rename(columns={'sold': 'sold_woman'}, inplace=True)\n",
    "\n",
    "total_revenue_man_per_brand = perfume_df[perfume_df['gender'] == 'man'].groupby('brand')['total_revenue'].sum().reset_index()\n",
    "total_revenue_man_per_brand.rename(columns={'total_revenue': 'revenue_man'}, inplace=True)\n",
    "\n",
    "total_revenue_woman_per_brand = perfume_df[perfume_df['gender'] == 'woman'].groupby('brand')['total_revenue'].sum().reset_index()\n",
    "total_revenue_woman_per_brand.rename(columns={'total_revenue': 'revenue_woman'}, inplace=True)\n",
    "\n",
    "\n",
    "brand_grouped_df = brand_grouped_df.merge(sold_man_per_brand, on='brand', how='left')\n",
    "brand_grouped_df = brand_grouped_df.merge(sold_woman_per_brand, on='brand', how='left')\n",
    "brand_grouped_df = brand_grouped_df.merge(total_revenue_man_per_brand, on='brand', how='left')\n",
    "brand_grouped_df = brand_grouped_df.merge(total_revenue_woman_per_brand, on='brand', how='left')\n",
    "\n",
    "brand_grouped_df['sold_man'].fillna(0, inplace=True)\n",
    "brand_grouped_df['sold_woman'].fillna(0, inplace=True)\n",
    "brand_grouped_df['revenue_man'].fillna(0, inplace=True)\n",
    "brand_grouped_df['revenue_woman'].fillna(0, inplace=True)"
   ]
  },
  {
   "cell_type": "code",
   "execution_count": null,
   "id": "c8cbcce9-f3ff-435e-a334-305829737b86",
   "metadata": {},
   "outputs": [],
   "source": [
    "brand_grouped_df['category'] = brand_grouped_df['brand'].apply(classify_brand)"
   ]
  },
  {
   "cell_type": "code",
   "execution_count": null,
   "id": "91090951-dc46-48e6-b448-2e77c5cfc99a",
   "metadata": {},
   "outputs": [],
   "source": [
    "brand_grouped_df"
   ]
  },
  {
   "cell_type": "code",
   "execution_count": null,
   "id": "b712053a-b2ad-4936-abaf-bff101a36b57",
   "metadata": {},
   "outputs": [],
   "source": [
    "best_brands = brand_grouped_df.sort_values(by='total_revenue', ascending=False).head(20)\n",
    "best_brands = best_brands.reset_index(drop=True)\n",
    "best_brands_man = brand_grouped_df.sort_values(by='revenue_man', ascending=False).head(20)\n",
    "best_brands_man = best_brands_man.reset_index(drop=True)\n",
    "best_brands_woman = brand_grouped_df.sort_values(by='revenue_woman', ascending=False).head(20)\n",
    "best_brands_woman = best_brands_woman.reset_index(drop=True)"
   ]
  },
  {
   "cell_type": "code",
   "execution_count": null,
   "id": "702dd8d6-8609-474c-a93e-3ca3a7e88779",
   "metadata": {},
   "outputs": [],
   "source": [
    "category_brand_count = best_brands.groupby('category')['brand'].nunique().reset_index()"
   ]
  },
  {
   "cell_type": "code",
   "execution_count": null,
   "id": "d7d5d395-2d36-44a9-87aa-dddecf79e9b0",
   "metadata": {},
   "outputs": [],
   "source": [
    "category_brand_count = category_brand_count.rename(columns = {'brand':'Best in total'})\n",
    "category_brand_count"
   ]
  },
  {
   "cell_type": "code",
   "execution_count": null,
   "id": "03cb063f-0992-42a7-8db6-81927ed8eab8",
   "metadata": {},
   "outputs": [],
   "source": [
    "category_brand_count_man = best_brands_man.groupby('category')['brand'].nunique().reset_index()\n",
    "category_brand_count_man = category_brand_count_man.rename(columns = {'brand':'Best in Man'})\n",
    "category_brand_count_man"
   ]
  },
  {
   "cell_type": "code",
   "execution_count": null,
   "id": "a198f415-c3c9-4cbb-a0d2-a89287a9c97f",
   "metadata": {},
   "outputs": [],
   "source": [
    "category_brand_count_woman = best_brands_woman.groupby('category')['brand'].nunique().reset_index()\n",
    "category_brand_count_woman = category_brand_count_woman.rename(columns = {'brand':'Best in Woman'})\n",
    "category_brand_count_woman"
   ]
  },
  {
   "cell_type": "code",
   "execution_count": null,
   "id": "80d1112c-6cdb-4a18-8aa3-fad730092b46",
   "metadata": {},
   "outputs": [],
   "source": [
    "categories = pd.merge(category_brand_count,category_brand_count_man,  on='category', how='left')\n",
    "categories = pd.merge(categories,category_brand_count_woman,  on='category', how='left')"
   ]
  },
  {
   "cell_type": "code",
   "execution_count": null,
   "id": "f82b014a-173c-4b4d-8795-df6a95146c2c",
   "metadata": {},
   "outputs": [],
   "source": [
    "categories"
   ]
  },
  {
   "cell_type": "code",
   "execution_count": null,
   "id": "86b40c32-5560-430e-b7e6-3343bf759846",
   "metadata": {},
   "outputs": [],
   "source": [
    "display(HTML('<b>Top Brands</b>'))\n",
    "display(HTML(best_brands.to_html()))\n",
    "display(HTML('<b>Top Brands by Gender (Man)</b>'))\n",
    "display(HTML(best_brands_man.to_html()))\n",
    "display(HTML('<b>Top Brands by Gender (Woman)</b>'))\n",
    "display(HTML(best_brands_woman.to_html()))"
   ]
  },
  {
   "cell_type": "code",
   "execution_count": null,
   "id": "f590e358-2c22-4afa-aaff-b35d567566a2",
   "metadata": {},
   "outputs": [],
   "source": [
    "display(HTML('<b>Sales Volume Top 20 Brands</b>'))\n",
    "\n",
    "brands = best_brands['brand']\n",
    "sold_man = best_brands['sold_man']\n",
    "sold_woman = best_brands['sold_woman']\n",
    "\n",
    "fig, ax = plt.subplots(figsize=(10, 6))\n",
    "ax.bar(brands, sold_man, label='Men', color='lightblue')\n",
    "ax.bar(brands, sold_woman, bottom=sold_man, label='Women', color='pink')\n",
    "\n",
    "ax.set_xlabel('Brand')\n",
    "ax.set_ylabel('Units Sold')\n",
    "ax.set_title('Sales Volume by Gender across TOP 20 Brands')\n",
    "ax.legend()\n",
    "\n",
    "plt.xticks(rotation=45)\n",
    "plt.tight_layout()"
   ]
  },
  {
   "cell_type": "code",
   "execution_count": null,
   "id": "88c9050b-d2b6-4fdf-86d0-33ec6f1da250",
   "metadata": {},
   "outputs": [],
   "source": [
    "display(HTML('<b>Revenue Top 20 Brands</b>'))\n",
    "\n",
    "revenue_man = best_brands['revenue_man']\n",
    "revenue_woman = best_brands['revenue_woman']\n",
    "\n",
    "fig, ax = plt.subplots(figsize=(10, 6))\n",
    "ax.bar(brands, revenue_man, label='Men', color='lightblue')\n",
    "ax.bar(brands, revenue_woman, bottom=sold_man, label='Women', color='pink')\n",
    "\n",
    "ax.set_xlabel('Brand')\n",
    "ax.set_ylabel('Units Sold')\n",
    "ax.set_title('Revenue by Gender across TOP 20 Brands')\n",
    "ax.legend()\n",
    "\n",
    "plt.xticks(rotation=45)\n",
    "plt.tight_layout()"
   ]
  },
  {
   "cell_type": "code",
   "execution_count": null,
   "id": "290be773-595e-472b-a1aa-1fa8fa7e24a3",
   "metadata": {},
   "outputs": [],
   "source": [
    "total_sales = brand_grouped_df['total_revenue'].sum()\n",
    "\n",
    "df_sorted = brand_grouped_df.sort_values(by='total_revenue', ascending=False)\n",
    "\n",
    "df_sorted['cumulative_sales'] = df_sorted['total_revenue'].cumsum()\n",
    "df_sorted['percentage_of_total'] = (df_sorted['cumulative_sales'] / total_sales)*100\n",
    "\n",
    "bestsellers_brands = df_sorted[df_sorted['percentage_of_total'] <= 80]\n",
    "bestsellers_brands = bestsellers_brands.reset_index()\n",
    "bestsellers_brands = bestsellers_brands.drop(columns=['index'])\n",
    "bestsellers_brands['category'] = bestsellers_brands['brand'].apply(classify_brand)"
   ]
  },
  {
   "cell_type": "code",
   "execution_count": null,
   "id": "3255b110-7a42-4843-ba0b-5772917056cc",
   "metadata": {},
   "outputs": [],
   "source": [
    "brands_eighty_procent = bestsellers_brands.head(50)"
   ]
  },
  {
   "cell_type": "code",
   "execution_count": null,
   "id": "00ea3a0e-14bb-4f5f-8c78-59f70bd8432d",
   "metadata": {},
   "outputs": [],
   "source": [
    "brands_share = brand_grouped_df[['brand', 'total_revenue']].copy()  # Create a copy to avoid the warning\n",
    "revenue_sum = brand_grouped_df['total_revenue'].sum()\n",
    "brands_share.loc[:, 'percentage_of_total'] = (brands_share['total_revenue'] / revenue_sum) * 100\n",
    "brands_share = brands_share.sort_values(by='percentage_of_total', ascending=False).reset_index(drop=True)"
   ]
  },
  {
   "cell_type": "code",
   "execution_count": null,
   "id": "949b15ce-a551-4b3d-afb5-abdd131e47fc",
   "metadata": {},
   "outputs": [],
   "source": [
    "brands_share.head(20)\n",
    "brands_share_vis = brands_share.head(45)"
   ]
  },
  {
   "cell_type": "code",
   "execution_count": null,
   "id": "a439a945-6635-4514-ae61-021d16e9b586",
   "metadata": {},
   "outputs": [],
   "source": [
    "display(HTML('<b>Top brands contributing 80% of the revenue</b>'))\n",
    "brands_share_vis = brands_share_vis.sort_values(by='percentage_of_total', ascending=False)\n",
    "\n",
    "brands_share_vis['cumulative_percentage'] = brands_share_vis['percentage_of_total'].cumsum()\n",
    "\n",
    "fig, ax1 = plt.subplots(figsize=(10, 10))\n",
    "\n",
    "ax1.barh(brands_share_vis['brand'], brands_share_vis['percentage_of_total'], color='lightblue', label='Percentage of Total Revenue')\n",
    "ax1.set_xlabel('Percentage of Total Revenue (%)')\n",
    "ax1.set_ylabel('Brand')\n",
    "\n",
    "ax2 = ax1.twiny()\n",
    "\n",
    "ax2.plot(brands_eighty_procent ['percentage_of_total'], brands_eighty_procent['brand'], color='red', marker='o', label='Cumulative Percentage')\n",
    "ax2.set_xlabel('Cumulative Percentage (%)')\n",
    "\n",
    "plt.title('Percentage of Total Revenue by Brand with Cumulative Percentage Line')\n",
    "fig.tight_layout()\n",
    "\n",
    "plt.show()"
   ]
  },
  {
   "cell_type": "markdown",
   "id": "3f8baa50-b91c-4720-b7ff-d01dfecdefda",
   "metadata": {},
   "source": [
    "The chart reveals that a small number of brands command a significant portion of the total revenue, with Luxury brands leading in both revenue and share of total income. Notably, the 45 brands displayed collectively account for 80% of the total revenue, highlighting their dominance in the market. This underscores the critical role these brands play in the overall financial landscape and their substantial impact on the market's financial performance."
   ]
  },
  {
   "cell_type": "code",
   "execution_count": null,
   "id": "8b085eae-1cf2-4994-a819-6370799dc55e",
   "metadata": {},
   "outputs": [],
   "source": [
    "type_grouped_df = perfume_df.groupby('grouped_category').agg({\n",
    "    'price': 'mean',     \n",
    "    'available': 'sum',  \n",
    "    'sold': 'sum',        \n",
    "    'available_value': 'sum',  \n",
    "    'total_revenue': 'sum'    \n",
    "}).reset_index()\n",
    "\n",
    "type_grouped_df.rename(columns={'price': 'average_price'}, inplace=True)"
   ]
  },
  {
   "cell_type": "code",
   "execution_count": null,
   "id": "e236285d-f42a-4895-a0ae-aded065276e6",
   "metadata": {},
   "outputs": [],
   "source": [
    "sold_man_per_type = perfume_df[perfume_df['gender'] == 'man'].groupby('grouped_category')['sold'].sum().reset_index()\n",
    "sold_man_per_type.rename(columns={'sold': 'sold_man'}, inplace=True)\n",
    "\n",
    "sold_woman_per_type = perfume_df[perfume_df['gender'] == 'woman'].groupby('grouped_category')['sold'].sum().reset_index()\n",
    "sold_woman_per_type.rename(columns={'sold': 'sold_woman'}, inplace=True)\n",
    "\n",
    "\n",
    "total_revenue_man_per_type = perfume_df[perfume_df['gender'] == 'man'].groupby('grouped_category')['total_revenue'].sum().reset_index()\n",
    "total_revenue_man_per_type.rename(columns={'total_revenue': 'revenue_man'}, inplace=True)\n",
    "\n",
    "total_revenue_woman_per_type = perfume_df[perfume_df['gender'] == 'woman'].groupby('grouped_category')['total_revenue'].sum().reset_index()\n",
    "total_revenue_woman_per_type.rename(columns={'total_revenue': 'revenue_woman'}, inplace=True)"
   ]
  },
  {
   "cell_type": "code",
   "execution_count": null,
   "id": "eb9ebb29-f447-4bc1-854a-285e1d2f3714",
   "metadata": {},
   "outputs": [],
   "source": [
    "type_grouped_df = type_grouped_df.merge(sold_man_per_type, on='grouped_category', how='left')\n",
    "type_grouped_df = type_grouped_df.merge(sold_woman_per_type, on='grouped_category', how='left')\n",
    "type_grouped_df = type_grouped_df.merge(total_revenue_man_per_type, on='grouped_category', how='left')\n",
    "type_grouped_df = type_grouped_df.merge(total_revenue_woman_per_type, on='grouped_category', how='left')\n",
    "type_grouped_df['sold_man'].fillna(0, inplace=True)\n",
    "type_grouped_df['sold_woman'].fillna(0, inplace=True)\n",
    "type_grouped_df['revenue_man'].fillna(0, inplace=True)\n",
    "type_grouped_df['revenue_woman'].fillna(0, inplace=True)\n",
    "type_grouped_df = type_grouped_df.sort_values(by='total_revenue', ascending=False).reset_index()\n",
    "type_grouped_df= type_grouped_df.drop(columns=['index'])"
   ]
  },
  {
   "cell_type": "code",
   "execution_count": null,
   "id": "40ff63a0-80e6-4a1f-ad02-62991ee6a48a",
   "metadata": {},
   "outputs": [],
   "source": [
    "display(HTML('<b>Sales and Revenue Analysis by Perfume Type and Gender</b>'))\n",
    "display(HTML(type_grouped_df.to_html()))\n",
    "\n",
    "fig, (ax1, ax2) = plt.subplots(1, 2, figsize=(14, 6))\n",
    "\n",
    "ax1.bar(type_grouped_df['grouped_category'], type_grouped_df['sold_man'], label='Sold for Men', color='lightblue')\n",
    "ax1.bar(type_grouped_df['grouped_category'], type_grouped_df['sold_woman'], bottom=type_grouped_df['sold_man'], label='Sold for Women', color='lightgreen')\n",
    "\n",
    "ax1.set_xlabel('Perfume Category')\n",
    "ax1.set_ylabel('Units Sold')\n",
    "ax1.set_title('Sales Distribution by Gender and Category')\n",
    "ax1.legend()\n",
    "ax1.set_xticks(np.arange(len(type_grouped_df['grouped_category'])))\n",
    "ax1.set_xticklabels(type_grouped_df['grouped_category'], rotation=45)\n",
    "\n",
    "ax2.bar(type_grouped_df['grouped_category'], type_grouped_df['revenue_man'], label='Revenue from Men', color='lightcoral')\n",
    "ax2.bar(type_grouped_df['grouped_category'], type_grouped_df['revenue_woman'], bottom=type_grouped_df['revenue_man'], label='Revenue from Women', color='lightpink')\n",
    "\n",
    "ax2.set_xlabel('Perfume Category')\n",
    "ax2.set_ylabel('Total Revenue (USD)')\n",
    "ax2.set_title('Revenue Distribution by Gender and Category')\n",
    "ax2.legend()\n",
    "ax2.set_xticks(np.arange(len(type_grouped_df['grouped_category'])))\n",
    "ax2.set_xticklabels(type_grouped_df['grouped_category'], rotation=45)\n",
    "\n",
    "plt.tight_layout()\n",
    "plt.show()"
   ]
  },
  {
   "cell_type": "markdown",
   "id": "75fe9e7a-e134-4f64-a6e8-8e09a059e6e0",
   "metadata": {},
   "source": [
    "Sales and Revenue Analysis\n",
    "Eau de Toilette stands out significantly in terms of total sales volume and revenue. The category’s high sales volume (738,461 units) and substantial revenue (USD 23,747,687) highlight its dominant market position. This category’s high performance is driven by a high volume of sales and a considerable revenue contribution from male consumers (USD 19,042,397). The lower average price compared to Eau de Parfum suggests that it appeals to a broader audience, leading to higher sales volume despite the lower per-unit revenue.\n",
    "\n",
    "Eau de Parfum, while generating less sales volume (326,593 units) compared to Eau de Toilette, commands a higher average price (USD 48.20). This higher average price results in a total revenue of USD 11,337,603, with a significant revenue contribution from female consumers (USD 8,077,727). The data indicates that Eau de Parfum is more premium and preferred among women, reflecting its higher average price and sales revenue.\n",
    "\n",
    "The 'Other' category, with an average price of USD 38.63, shows moderate performance with a total revenue of USD 2,309,491. However, it is characterized by a substantial male revenue contribution (USD 1,830,556), suggesting that it caters more to male consumers. Despite a lower sales volume, its moderate average price contributes to its total revenue.\n",
    "\n",
    "Cologne demonstrates a moderate average price (USD 40.41) with lower sales volume (63,565 units) compared to Eau de Toilette and Eau de Parfum. It generates a total revenue of USD 1,360,699, predominantly from male consumers (USD 1,060,702). This indicates that while it has a respectable price point, its overall market impact is limited by its lower sales volume.\n",
    "\n",
    "Perfume Oil and Body Spray are characterized by their lower average prices (USD 19.55 and USD 17.35, respectively) and low sales volumes (20,919 and 3,085 units, respectively). Perfume Oil, despite its low price, generates more revenue from men (USD 124,590), reflecting a niche market. Body Spray, being the least expensive, generates minimal revenue (USD 43,246) with a relatively even split between male and female consumers."
   ]
  },
  {
   "cell_type": "markdown",
   "id": "5bae27ef-e20f-4e48-9edd-408f55e15b11",
   "metadata": {},
   "source": [
    "## Price Analysis"
   ]
  },
  {
   "cell_type": "code",
   "execution_count": null,
   "id": "33a26d48-aa0b-49fc-86c9-51e60d83b68d",
   "metadata": {},
   "outputs": [],
   "source": [
    "grouped = perfume_df.groupby('category')['price']\n",
    "stats = grouped.agg(['mean', 'min', 'max', lambda x: x.mode().iloc[0]])\n",
    "stats.rename(columns={'<lambda_0>': 'mode'}, inplace=True)\n",
    "stats_transposed = stats.T\n",
    "stats_transposed.index = ['Mean', 'Min', 'Max', 'Mode']\n",
    "stats_transposed = stats_transposed.round(2)\n",
    "\n",
    "grouped1 = perfume_df.groupby('grouped_category')['price']\n",
    "stats1 = grouped1.agg(['mean', 'min', 'max', lambda x: x.mode().iloc[0]])\n",
    "stats1.rename(columns={'<lambda_0>': 'mode'}, inplace=True)\n",
    "stats_transposed1 = stats1.T\n",
    "stats_transposed1.index = ['Mean', 'Min', 'Max', 'Mode']\n",
    "stats_transposed1 = stats_transposed1.round(2)\n",
    "\n",
    "grouped2 = perfume_df.groupby('gender')['price']\n",
    "stats2 = grouped2.agg(['mean', 'min', 'max', lambda x: x.mode().iloc[0]])\n",
    "stats2.rename(columns={'<lambda_0>': 'mode'}, inplace=True)\n",
    "stats_transposed2 = stats2.T\n",
    "stats_transposed2.index = ['Mean', 'Min', 'Max', 'Mode']\n",
    "stats_transposed2 = stats_transposed2.round(2)\n",
    "\n",
    "combined_stats = pd.concat({\n",
    "    'Category': stats_transposed,\n",
    "    'Grouped Category': stats_transposed1,\n",
    "    'Gender': stats_transposed2\n",
    "}, axis=1)\n",
    "\n",
    "display(HTML('<b>Perfume Pricing Metrics by Category, Group, and Gender<b>'))\n",
    "\n",
    "display(HTML(combined_stats.to_html()))"
   ]
  },
  {
   "cell_type": "code",
   "execution_count": null,
   "id": "49126cc1-776b-456d-9198-c0ce6a714f29",
   "metadata": {},
   "outputs": [],
   "source": [
    "display(HTML('<b>Prices and Sales<b>'))\n",
    "\n",
    "num_bins = 50\n",
    "\n",
    "hist_values, bin_edges = np.histogram(perfume_df['price'], bins=num_bins)\n",
    "\n",
    "perfume_df['price_bins'] = pd.cut(perfume_df['price'], bins=bin_edges)\n",
    "\n",
    "sold_sum = perfume_df.groupby('price_bins')['sold'].sum().reindex(pd.IntervalIndex.from_breaks(bin_edges)).fillna(0).values\n",
    "\n",
    "fig, ax1 = plt.subplots(figsize=(12, 6))\n",
    "\n",
    "color = 'lightblue'\n",
    "ax1.set_xlabel('Price')\n",
    "ax1.set_ylabel('Frequency', color=color)\n",
    "hist = ax1.hist(perfume_df['price'], bins=num_bins, alpha=0.5, color=color, label='Price Distribution')\n",
    "ax1.tick_params(axis='y', labelcolor=color)\n",
    "\n",
    "ax2 = ax1.twinx()\n",
    "color = 'red'\n",
    "ax2.set_ylabel('Quantity Sold', color=color)\n",
    "line = ax2.plot(bin_edges[:-1], sold_sum, color=color, marker='o', linestyle='-', label='Quantity Sold')\n",
    "ax2.tick_params(axis='y', labelcolor=color)\n",
    "\n",
    "plt.title('Histogram of Perfume Prices with Sold Items Overlay')\n",
    "fig.tight_layout()  # To prevent clipping of ylabel\n",
    "ax1.legend(loc='upper left')\n",
    "ax2.legend(loc='upper right')\n",
    "\n",
    "plt.show()"
   ]
  },
  {
   "cell_type": "code",
   "execution_count": null,
   "id": "f82beedd-3bd5-42de-8bac-9ad5acb42024",
   "metadata": {},
   "outputs": [],
   "source": [
    "display(HTML('<b>Category Price Analysis<b>'))\n",
    "\n",
    "plt.figure(figsize=(12, 6))\n",
    "\n",
    "sns.boxplot(x='category', y='price', data=perfume_df)\n",
    "plt.xlabel('Category')\n",
    "plt.ylabel('Price (USD)')\n",
    "plt.title('Price Comparison between categories')\n",
    "plt.show()"
   ]
  },
  {
   "cell_type": "markdown",
   "id": "615575b8-4869-4d06-b315-738212365bbf",
   "metadata": {},
   "source": [
    "Luxury perfumes have the highest average price at 54.73 USD, followed by Niche (51.12 USD) and Indie (44.42 USD). Massmarket and Other categories have lower mean prices at 35.63 USD and 37.76 USD, respectively. This suggests that Luxury and Niche perfumes are positioned at a higher price point compared to the other categories.\n",
    "\n",
    "The lowest minimum price is observed in the Other category (1.00 USD), which is significantly lower than the minimum prices in other categories. Massmarket and Indie categories also have relatively low minimum prices at 9.00 USD and 3.00 USD, respectively, indicating a broader range of affordable options.\n",
    "\n",
    "Luxury perfumes have the highest maximum price at 285.00 USD, showing a potential for premium pricing in this segment. The Other category has the highest variability with a maximum price of 299.00 USD, suggesting a diverse price range in this category. Massmarket and Niche categories have lower maximum prices compared to Luxury and Other.\n",
    "\n",
    "The most frequently occurring price is relatively consistent across categories, with Luxury and Massmarket categories having a mode of 49.00 USD and 24.00 USD, respectively. This indicates that despite the overall higher average prices in Luxury and Niche categories, the most common price point is lower."
   ]
  },
  {
   "cell_type": "code",
   "execution_count": null,
   "id": "7d03a9a4-de7f-42b2-84c8-e18063fcc1a9",
   "metadata": {},
   "outputs": [],
   "source": [
    "display(HTML('<b>Gender-Based Price Analysis<b>'))\n",
    "\n",
    "plt.figure(figsize=(12, 6))\n",
    "\n",
    "sns.boxplot(x='gender', y='price', data=perfume_df)\n",
    "plt.xlabel('Gender')\n",
    "plt.ylabel('Price (USD)')\n",
    "plt.title('Price Comparison between Man and Woman')\n",
    "plt.show()"
   ]
  },
  {
   "cell_type": "markdown",
   "id": "81abfc7e-7249-497c-9464-ff5445c62bbf",
   "metadata": {},
   "source": [
    "Men's perfumes have a mean price of 45.77 USD, which is slightly higher than Women's perfumes at 39.19 USD. This suggests that Men’s perfumes are generally positioned at a higher price point compared to Women's options.\n",
    "Minimum Prices:\n",
    "\n",
    "The minimum price for Men's perfumes is 3.00 USD, while Women's perfumes start at 1.00 USD. This indicates a wider range of very affordable options in the Women's category.\n",
    "Maximum Prices:\n",
    "\n",
    "The maximum price for Men’s perfumes is 259.00 USD, while Women's perfumes can go up to 299.00 USD. This suggests that there is a higher ceiling for Women's perfumes, potentially indicating a broader range of premium products.\n",
    "Mode:\n",
    "\n",
    "The most frequently occurring price is 29.00 USD for both Men's and Women's perfumes, indicating a common price point that is popular across genders."
   ]
  },
  {
   "cell_type": "code",
   "execution_count": null,
   "id": "664e62ff-1a91-4e93-808e-4e258483c960",
   "metadata": {},
   "outputs": [],
   "source": [
    "display(HTML('<b>Product Type Price Analysis<b>'))\n",
    "\n",
    "plt.figure(figsize=(12, 6))\n",
    "\n",
    "sns.boxplot(x='grouped_category', y='price', data=perfume_df)\n",
    "plt.xlabel('Product type')\n",
    "plt.ylabel('Price (USD)')\n",
    "plt.title('Price Comparison between Product Types')\n",
    "plt.show()\n"
   ]
  },
  {
   "cell_type": "markdown",
   "id": "11763a72-2dcc-42c6-8381-8d0d71b97a61",
   "metadata": {},
   "source": [
    "Body Spray has the lowest mean price at 17.35 USD, while Eau de Parfum (48.20 USD) and Cologne (40.41 USD) are priced higher, showing that Eau de Parfum and Cologne are positioned at a premium compared to Body Spray and Perfume Oil.\n",
    "\n",
    "Other products have the lowest minimum price of 1.00 USD, indicating the availability of very affordable options in this category. Body Spray also has a low minimum price (6.00 USD), suggesting that it is generally more affordable.\n",
    "Maximum Prices:\n",
    "\n",
    "Eau de Parfum and Cologne have the highest maximum prices, 285.00 USD and 129.00 USD, respectively, showing that these categories can command higher prices. Body Spray and Perfume Oil have lower maximum prices, reflecting a more affordable range.\n",
    "\n",
    "The most common price point varies by category, with Cologne and Eau de Parfum having modes of 29.00 USD, reflecting their popularity at that price. Body Spray and Perfume Oil have lower modes, which are consistent with their generally lower price ranges."
   ]
  },
  {
   "cell_type": "markdown",
   "id": "661f3e98-f59d-4c44-8d56-09aadfe0020d",
   "metadata": {},
   "source": [
    "## Geographic analysis"
   ]
  },
  {
   "cell_type": "code",
   "execution_count": null,
   "id": "7e33d39f-7f89-4f2c-8259-e5bca1234250",
   "metadata": {},
   "outputs": [],
   "source": [
    "\n",
    "location_grouped_df = perfume_df.groupby('itemLocation').agg({\n",
    "    'price': 'mean',     \n",
    "    'available': 'sum',  \n",
    "    'sold': 'sum',        \n",
    "    'available_value': 'sum',  \n",
    "    'total_revenue': 'sum'    \n",
    "}).reset_index()\n",
    "\n",
    "brand_grouped_df.rename(columns={'price': 'average_price'}, inplace=True)\n",
    "\n",
    "sold_man_per_location = perfume_df[perfume_df['gender'] == 'man'].groupby('itemLocation')['sold'].sum().reset_index()\n",
    "sold_man_per_location.rename(columns={'sold': 'sold_man'}, inplace=True)\n",
    "\n",
    "sold_woman_per_location = perfume_df[perfume_df['gender'] == 'woman'].groupby('itemLocation')['sold'].sum().reset_index()\n",
    "sold_woman_per_location.rename(columns={'sold': 'sold_woman'}, inplace=True)\n",
    "\n",
    "total_revenue_man_per_location = perfume_df[perfume_df['gender'] == 'man'].groupby('itemLocation')['total_revenue'].sum().reset_index()\n",
    "total_revenue_man_per_location.rename(columns={'total_revenue': 'revenue_man'}, inplace=True)\n",
    "\n",
    "total_revenue_woman_per_location = perfume_df[perfume_df['gender'] == 'woman'].groupby('itemLocation')['total_revenue'].sum().reset_index()\n",
    "total_revenue_woman_per_location.rename(columns={'total_revenue': 'revenue_woman'}, inplace=True)\n",
    "\n",
    "location_grouped_df = location_grouped_df.merge(sold_man_per_location, on='itemLocation', how='left')\n",
    "location_grouped_df = location_grouped_df.merge(sold_woman_per_location, on='itemLocation', how='left')\n",
    "location_grouped_df = location_grouped_df.merge(total_revenue_man_per_location, on='itemLocation', how='left')\n",
    "location_grouped_df = location_grouped_df.merge(total_revenue_woman_per_location, on='itemLocation', how='left')\n",
    "\n",
    "location_grouped_df['sold_man'].fillna(0, inplace=True)\n",
    "location_grouped_df['sold_woman'].fillna(0, inplace=True)\n",
    "location_grouped_df['revenue_man'].fillna(0, inplace=True)\n",
    "location_grouped_df['revenue_woman'].fillna(0, inplace=True)\n",
    "location_grouped_df = location_grouped_df.round(2)\n",
    "location_grouped_df = location_grouped_df.sort_values(by='total_revenue', ascending=False).reset_index(drop=True)"
   ]
  },
  {
   "cell_type": "code",
   "execution_count": null,
   "id": "84dc69d1-84f9-4d88-b161-d358c22ff206",
   "metadata": {},
   "outputs": [],
   "source": [
    "location_grouped_df['cumulative_sales'] = location_grouped_df['total_revenue'].cumsum()\n",
    "location_grouped_df['percentage_of_total'] = (location_grouped_df['cumulative_sales'] / total_sales)*100\n",
    "\n",
    "bestsellers_items = location_grouped_df[location_grouped_df['percentage_of_total'] <= 90]\n",
    "bestsellers_items = bestsellers_items.reset_index()\n",
    "bestsellers_items = bestsellers_items.drop(columns=['index'])\n",
    "bestsellers_items['percentage_of_total'] = (bestsellers_items['total_revenue']/total_sales)*100\n",
    "bestsellers_items = bestsellers_items.round(2)"
   ]
  },
  {
   "cell_type": "code",
   "execution_count": null,
   "id": "28faccf5-b985-4f84-a457-3e40ae3f9103",
   "metadata": {},
   "outputs": [],
   "source": [
    "bestsellers_items_top = bestsellers_items "
   ]
  },
  {
   "cell_type": "code",
   "execution_count": null,
   "id": "7d099362-abe5-4d2c-8529-3f579f5821f0",
   "metadata": {},
   "outputs": [],
   "source": [
    "display(HTML('<b>Top items contributing 90% of the revenue</b>'))\n",
    "display(bestsellers_items_top)\n",
    "bestsellers_items_top['cumulative_percentage'] = bestsellers_items_top['percentage_of_total'].cumsum()\n",
    "\n",
    "fig, ax1 = plt.subplots(figsize=(10, 6))\n",
    "\n",
    "ax1.barh(bestsellers_items_top['itemLocation'], bestsellers_items_top['total_revenue'], color='lightblue', label='Total Revenue')\n",
    "ax1.set_xlabel('Total Revenue')\n",
    "ax1.set_ylabel('Item Location')\n",
    "\n",
    "ax2 = ax1.twiny()\n",
    "ax2.plot(bestsellers_items_top['cumulative_percentage'], bestsellers_items_top['itemLocation'], color='red', marker='o', label='Cumulative Percentage')\n",
    "ax2.set_xlabel('Cumulative Percentage (%)')\n",
    "\n",
    "plt.title('Percentage of Total Revenue by Item Location with Cumulative Percentage Line')\n",
    "ax1.legend(loc='upper left')\n",
    "ax2.legend(loc='upper right')\n",
    "\n",
    "fig.tight_layout()\n",
    "\n",
    "plt.show()"
   ]
  },
  {
   "cell_type": "code",
   "execution_count": null,
   "id": "065121d3-104e-466f-ba73-189c220a4979",
   "metadata": {},
   "outputs": [],
   "source": [
    "locations = [\n",
    "    \"Hackensack, New Jersey, United States\",\n",
    "    \"Dallas, Texas, United States\",\n",
    "    \"Katy, Texas, United States\",\n",
    "    \"Edison, New Jersey, United States\",\n",
    "    \"Houston, Texas, United States\"\n",
    "]\n",
    "\n",
    "\n",
    "filtered_df = perfume_df[perfume_df['itemLocation'].isin(locations)]\n",
    "\n",
    "inventory_pivot_category = filtered_df.pivot_table(\n",
    "    index='itemLocation', \n",
    "    columns='category', \n",
    "    values='available_value', \n",
    "    aggfunc='sum',\n",
    "    fill_value=0\n",
    ")\n",
    "\n",
    "inventory_pivot_grouped_category = filtered_df.pivot_table(\n",
    "    index='itemLocation', \n",
    "    columns='grouped_category', \n",
    "    values='available_value', \n",
    "    aggfunc='sum',\n",
    "    fill_value=0\n",
    ")\n",
    "\n",
    "\n",
    "inventory_df = pd.concat([inventory_pivot_category, inventory_pivot_grouped_category], axis=1)\n",
    "\n",
    "inventory_df = inventory_df.reset_index()\n",
    "inventory_df = inventory_df.rename(columns = {'Indie':'Indie_inv', \n",
    "                                              'Luxury' : 'Luxury_inv',\t\n",
    "                                              'Massmarket':'Massmarket_inv',\t\n",
    "                                              'Niche':'Niche_inv',\t\n",
    "                                              'Other_category':'Other_Category_inv',\t\n",
    "                                              'Body Spray':'Body Spray_inv',\n",
    "                                              'Cologne':'Cologne_inv',\n",
    "                                              'Eau de Parfum':'Eau de Parfum_inv',\n",
    "                                              'Eau de Toilette':\n",
    "                                              'Eau de Toilette_inv',\n",
    "                                              'Other_product_type':'Other_product_type_inv'})"
   ]
  },
  {
   "cell_type": "code",
   "execution_count": null,
   "id": "4da5952c-98fb-41de-a0d7-9352963fd78e",
   "metadata": {},
   "outputs": [],
   "source": [
    "sales_pivot_category = filtered_df.pivot_table(\n",
    "    index='itemLocation', \n",
    "    columns='category', \n",
    "    values='total_revenue', \n",
    "    aggfunc='sum',\n",
    "    fill_value=0\n",
    ")\n",
    "\n",
    "sales_pivot_grouped_category = filtered_df.pivot_table(\n",
    "    index='itemLocation', \n",
    "    columns='grouped_category', \n",
    "    values='total_revenue', \n",
    "    aggfunc='sum',\n",
    "    fill_value=0\n",
    ")\n",
    "\n",
    "\n",
    "sales_df = pd.concat([sales_pivot_category, sales_pivot_grouped_category], axis=1)\n",
    "\n",
    "\n",
    "sales_df = sales_df.reset_index()\n",
    "sales_df = sales_df.rename(columns = {'Indie':'Indie_rev', \n",
    "                                      'Luxury' : 'Luxury_rev',\t\n",
    "                                      'Massmarket':'Massmarket_rev',\t\n",
    "                                      'Niche':'Niche_rev',\t\n",
    "                                      'Other_category':'Other_Category_rev',\t\n",
    "                                      'Body Spray':'Body Spray_rev',\n",
    "                                      'Cologne':'Cologne_rev',\n",
    "                                      'Eau de Parfum':'Eau de Parfum_rev',\n",
    "                                      'Eau de Toilette':'Eau de Toilette_rev',\n",
    "                                      'Other_product_type':'Other_product_type_rev'})"
   ]
  },
  {
   "cell_type": "code",
   "execution_count": null,
   "id": "98dfea03-19f0-4fe0-bf6b-5074d66368e0",
   "metadata": {},
   "outputs": [],
   "source": [
    "inv_eff_base = inventory_df.merge(sales_df, on='itemLocation', how='left')\n",
    "inv_eff_base['Indie_IUR'] = inv_eff_base['Indie_rev']/inv_eff_base['Indie_inv']\n",
    "\n",
    "inv_eff_base['Luxury_IUR'] = inv_eff_base['Luxury_rev']/inv_eff_base['Luxury_inv']\n",
    "inv_eff_base['Massmarket_IUR'] = inv_eff_base['Massmarket_rev']/inv_eff_base['Massmarket_inv']\n",
    "inv_eff_base['Niche_IUR'] = inv_eff_base['Niche_rev']/inv_eff_base['Niche_inv']\n",
    "inv_eff_base['Other_Category_IUR'] = inv_eff_base['Other_Category_rev']/inv_eff_base['Other_Category_inv']\n",
    "inv_eff_base['Body Spray_IUR'] = inv_eff_base['Body Spray_rev']/inv_eff_base['Body Spray_inv']\n",
    "inv_eff_base['Cologne_IUR'] = inv_eff_base['Cologne_rev']/inv_eff_base['Cologne_inv']\n",
    "inv_eff_base['Eau de Parfum_IUR'] = inv_eff_base['Eau de Parfum_rev']/inv_eff_base['Eau de Parfum_inv']\n",
    "inv_eff_base['Eau de Toilette_IUR'] = inv_eff_base['Eau de Toilette_rev']/inv_eff_base['Eau de Toilette_inv']\n",
    "inv_eff_base['Other_product_type_IUR'] = inv_eff_base['Other_product_type_rev']/inv_eff_base['Other_product_type_inv']\n",
    "inv_eff_base = inv_eff_base.fillna({\n",
    "    'Indie_IUR':0,\n",
    "    'Luxury_IUR':0,\n",
    "    'Massmarket_IUR':0,\n",
    "    'Niche_IUR':0,\n",
    "    'Other_Category_IUR':0,\n",
    "    'Body Spray_IUR':0,\n",
    "    'Cologne_IUR':0,\n",
    "    'Eau de Parfum_IUR':0,\n",
    "    'Eau de Toilette_IUR':0,\n",
    "    'Other_product_type_IUR':0,\n",
    "})\n",
    "inv_eff_base=inv_eff_base.round(2)"
   ]
  },
  {
   "cell_type": "code",
   "execution_count": null,
   "id": "c944327e-29dd-455e-8432-c7e9f74d1172",
   "metadata": {},
   "outputs": [],
   "source": [
    "iur = inv_eff_base[['itemLocation',\n",
    "                    'Indie_IUR',\n",
    "    'Luxury_IUR',\n",
    "    'Massmarket_IUR',\n",
    "    'Niche_IUR',\n",
    "    'Other_Category_IUR',\n",
    "    'Body Spray_IUR',\n",
    "    'Cologne_IUR',\n",
    "    'Eau de Parfum_IUR',\n",
    "    'Eau de Toilette_IUR',\n",
    "    'Other_product_type_IUR']]"
   ]
  },
  {
   "cell_type": "code",
   "execution_count": null,
   "id": "b0e993c6-1af8-426e-b21e-120c9891e8b3",
   "metadata": {},
   "outputs": [],
   "source": [
    "display(HTML('<b>Inventory Top Locations<b>'))\n",
    "display(inventory_df)\n",
    "display(HTML('<b>Sales Top Locations<b>'))\n",
    "display(sales_df)\n",
    "display(HTML('<b>Inventory Utilization Ratios (IUR)<b>'))\n",
    "display(iur)"
   ]
  },
  {
   "cell_type": "markdown",
   "id": "4eeb374e-7610-47ee-bb7f-63c5e2634d06",
   "metadata": {},
   "source": [
    "- **Hackensack**:\n",
    "  - Strong performance in **Luxury (653.04)** and **Massmarket (1211.00)** IURs indicates a highly efficient inventory turnover.\n",
    "  - The **Other Category IUR (452.56)** suggests good management, while the **Niche category (inf)** points to possible inventory issues or lack of sales data.\n",
    "\n",
    "- **Dallas**:\n",
    "  - Reasonable IURs in **Massmarket (28.65)** and **Other Category (15.91)** demonstrate effective inventory management, but **Indie (0.0)** and **Niche (0.00)** categories are underperforming, indicating potential missed opportunities.\n",
    "\n",
    "- **Katy**:\n",
    "  - The **Eau de Parfum IUR (38.37)** is notable, but overall low sales and inventory levels suggest that more aggressive marketing or better stock management is necessary.\n",
    "\n",
    "- **Edison**:\n",
    "  - **Luxury IUR (29.82)** is promising, while **Massmarket IUR (16.73)** indicates moderate performance. However, significant inefficiencies in the **Cologne (inf)** category suggest inventory problems.\n",
    "\n",
    "- **Houston**:\n",
    "  - Low IURs across most categories, especially **Luxury (10.64)** and **Niche (0.33)**, point to inefficiencies in inventory planning and demand forecasting. More strategic inventory management is crucial here."
   ]
  },
  {
   "cell_type": "code",
   "execution_count": null,
   "id": "25a6504c-7316-4c92-8f85-fc93338c7c20",
   "metadata": {},
   "outputs": [],
   "source": [
    "bestsellers_items_top_stock = bestsellers_items_top.merge(inventory_df, on='itemLocation', how='left')"
   ]
  },
  {
   "cell_type": "code",
   "execution_count": null,
   "id": "a5b79591-cc84-4d06-823a-d4c097f41ec0",
   "metadata": {},
   "outputs": [],
   "source": [
    "bestsellers_items_top_stock = bestsellers_items_top_stock.merge(sales_df, on='itemLocation', how='left')\n",
    "bestsellers_items_top_stock = bestsellers_items_top_stock.merge(iur, on='itemLocation', how='left')"
   ]
  },
  {
   "cell_type": "markdown",
   "id": "952405da-9768-4e53-8936-8edc43e73d95",
   "metadata": {},
   "source": [
    "### Inventory and Sales Performance Analysis\n",
    "\n",
    "#### Summary of Key Metrics\n",
    "\n",
    "1. **Sales Performance**:\n",
    "   - **Total Sold**: The highest sales volume is seen in **Hackensack** (617,390), followed by **Dallas** (435,567). **Katy** and **Edison** show significantly lower sales figures, indicating potential issues in either demand or inventory levels.\n",
    "   - **Total Revenue**: Hackensack also leads in total revenue ($21,537,042), with Dallas following at $11,085,194. The lower revenue in Katy ($908,275) and Edison ($688,948) points to a need for improvement.\n",
    "\n",
    "2. **Inventory Levels**:\n",
    "   - **Available Stock**: **Dallas** has the highest available stock (23,428), suggesting good inventory management. In contrast, **Katy** has only 395 items available, which may not be sufficient to meet demand based on its sales volume.\n",
    "   - **Available Value**: The highest available value is in **Dallas** ($649,479), which correlates with its sales figures. However, Hackensack's lower available stock still yields substantial revenue due to effective sales.\n",
    "\n",
    "### Conclusion\n",
    "The data illustrates clear disparities in inventory utilization and sales performance across different locations. By implementing strategic adjustments and focusing on underperforming categories, overall sales efficiency and revenue can be improved significantly."
   ]
  },
  {
   "cell_type": "code",
   "execution_count": null,
   "id": "752017cf-9b3a-43f0-a7d0-57850dae5ae8",
   "metadata": {},
   "outputs": [],
   "source": []
  }
 ],
 "metadata": {
  "kernelspec": {
   "display_name": "Python 3 (ipykernel)",
   "language": "python",
   "name": "python3"
  },
  "language_info": {
   "codemirror_mode": {
    "name": "ipython",
    "version": 3
   },
   "file_extension": ".py",
   "mimetype": "text/x-python",
   "name": "python",
   "nbconvert_exporter": "python",
   "pygments_lexer": "ipython3",
   "version": "3.11.7"
  }
 },
 "nbformat": 4,
 "nbformat_minor": 5
}
